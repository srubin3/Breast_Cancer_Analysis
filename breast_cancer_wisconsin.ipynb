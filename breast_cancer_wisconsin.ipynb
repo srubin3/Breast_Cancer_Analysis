{
 "cells": [
  {
   "cell_type": "markdown",
   "id": "3acd6b48-02e8-4545-b6cf-d62e8ab38a40",
   "metadata": {},
   "source": [
    "### Import Libraries"
   ]
  },
  {
   "cell_type": "code",
   "execution_count": 2,
   "id": "7a64ea4b-75bb-4b31-abbb-8a3da45fcfae",
   "metadata": {},
   "outputs": [],
   "source": [
    "#data analysis tools\n",
    "import pandas as pd\n",
    "import numpy as np\n",
    "import statistics\n",
    "\n",
    "#visualizations\n",
    "import matplotlib.pyplot as plt\n",
    "import seaborn as sns\n",
    "import plotly.express as px\n",
    "import plotly.graph_objects as go\n",
    "import plotly.figure_factory as ff\n",
    "\n",
    "#sklearn\n",
    "from sklearn.preprocessing import StandardScaler\n",
    "from sklearn.decomposition import PCA\n",
    "from sklearn.model_selection import train_test_split\n",
    "from sklearn.ensemble import RandomForestClassifier\n",
    "from sklearn.linear_model import LogisticRegression\n",
    "from sklearn.metrics import (\n",
    "    accuracy_score,\n",
    "    precision_score,\n",
    "    recall_score,\n",
    "    f1_score,\n",
    "    roc_curve,\n",
    "    auc,\n",
    "    confusion_matrix,\n",
    "    ConfusionMatrixDisplay\n",
    ")\n",
    "from sklearn.model_selection import cross_val_score\n"
   ]
  },
  {
   "cell_type": "markdown",
   "id": "db96a1a0-ed41-40a1-9883-0593fb7b150a",
   "metadata": {},
   "source": [
    "### Data Cleaning"
   ]
  },
  {
   "cell_type": "code",
   "execution_count": 4,
   "id": "f625443d-63dd-45ed-9fc4-96442728f5a9",
   "metadata": {},
   "outputs": [
    {
     "ename": "PermissionError",
     "evalue": "[Errno 13] Permission denied",
     "output_type": "error",
     "traceback": [
      "\u001b[1;31m---------------------------------------------------------------------------\u001b[0m",
      "\u001b[1;31mPermissionError\u001b[0m                           Traceback (most recent call last)",
      "Cell \u001b[1;32mIn[4], line 1\u001b[0m\n\u001b[1;32m----> 1\u001b[0m df \u001b[38;5;241m=\u001b[39m pd\u001b[38;5;241m.\u001b[39mread_csv(\u001b[38;5;124m\"\u001b[39m\u001b[38;5;124mE:\u001b[39m\u001b[38;5;130;01m\\\\\u001b[39;00m\u001b[38;5;124mbreast_cancer_wisconsin_dataset.csv\u001b[39m\u001b[38;5;124m\"\u001b[39m)\n\u001b[0;32m      2\u001b[0m df\u001b[38;5;241m.\u001b[39mshape\n",
      "File \u001b[1;32m~\\anaconda3\\Lib\\site-packages\\pandas\\io\\parsers\\readers.py:1026\u001b[0m, in \u001b[0;36mread_csv\u001b[1;34m(filepath_or_buffer, sep, delimiter, header, names, index_col, usecols, dtype, engine, converters, true_values, false_values, skipinitialspace, skiprows, skipfooter, nrows, na_values, keep_default_na, na_filter, verbose, skip_blank_lines, parse_dates, infer_datetime_format, keep_date_col, date_parser, date_format, dayfirst, cache_dates, iterator, chunksize, compression, thousands, decimal, lineterminator, quotechar, quoting, doublequote, escapechar, comment, encoding, encoding_errors, dialect, on_bad_lines, delim_whitespace, low_memory, memory_map, float_precision, storage_options, dtype_backend)\u001b[0m\n\u001b[0;32m   1013\u001b[0m kwds_defaults \u001b[38;5;241m=\u001b[39m _refine_defaults_read(\n\u001b[0;32m   1014\u001b[0m     dialect,\n\u001b[0;32m   1015\u001b[0m     delimiter,\n\u001b[1;32m   (...)\u001b[0m\n\u001b[0;32m   1022\u001b[0m     dtype_backend\u001b[38;5;241m=\u001b[39mdtype_backend,\n\u001b[0;32m   1023\u001b[0m )\n\u001b[0;32m   1024\u001b[0m kwds\u001b[38;5;241m.\u001b[39mupdate(kwds_defaults)\n\u001b[1;32m-> 1026\u001b[0m \u001b[38;5;28;01mreturn\u001b[39;00m _read(filepath_or_buffer, kwds)\n",
      "File \u001b[1;32m~\\anaconda3\\Lib\\site-packages\\pandas\\io\\parsers\\readers.py:620\u001b[0m, in \u001b[0;36m_read\u001b[1;34m(filepath_or_buffer, kwds)\u001b[0m\n\u001b[0;32m    617\u001b[0m _validate_names(kwds\u001b[38;5;241m.\u001b[39mget(\u001b[38;5;124m\"\u001b[39m\u001b[38;5;124mnames\u001b[39m\u001b[38;5;124m\"\u001b[39m, \u001b[38;5;28;01mNone\u001b[39;00m))\n\u001b[0;32m    619\u001b[0m \u001b[38;5;66;03m# Create the parser.\u001b[39;00m\n\u001b[1;32m--> 620\u001b[0m parser \u001b[38;5;241m=\u001b[39m TextFileReader(filepath_or_buffer, \u001b[38;5;241m*\u001b[39m\u001b[38;5;241m*\u001b[39mkwds)\n\u001b[0;32m    622\u001b[0m \u001b[38;5;28;01mif\u001b[39;00m chunksize \u001b[38;5;129;01mor\u001b[39;00m iterator:\n\u001b[0;32m    623\u001b[0m     \u001b[38;5;28;01mreturn\u001b[39;00m parser\n",
      "File \u001b[1;32m~\\anaconda3\\Lib\\site-packages\\pandas\\io\\parsers\\readers.py:1620\u001b[0m, in \u001b[0;36mTextFileReader.__init__\u001b[1;34m(self, f, engine, **kwds)\u001b[0m\n\u001b[0;32m   1617\u001b[0m     \u001b[38;5;28mself\u001b[39m\u001b[38;5;241m.\u001b[39moptions[\u001b[38;5;124m\"\u001b[39m\u001b[38;5;124mhas_index_names\u001b[39m\u001b[38;5;124m\"\u001b[39m] \u001b[38;5;241m=\u001b[39m kwds[\u001b[38;5;124m\"\u001b[39m\u001b[38;5;124mhas_index_names\u001b[39m\u001b[38;5;124m\"\u001b[39m]\n\u001b[0;32m   1619\u001b[0m \u001b[38;5;28mself\u001b[39m\u001b[38;5;241m.\u001b[39mhandles: IOHandles \u001b[38;5;241m|\u001b[39m \u001b[38;5;28;01mNone\u001b[39;00m \u001b[38;5;241m=\u001b[39m \u001b[38;5;28;01mNone\u001b[39;00m\n\u001b[1;32m-> 1620\u001b[0m \u001b[38;5;28mself\u001b[39m\u001b[38;5;241m.\u001b[39m_engine \u001b[38;5;241m=\u001b[39m \u001b[38;5;28mself\u001b[39m\u001b[38;5;241m.\u001b[39m_make_engine(f, \u001b[38;5;28mself\u001b[39m\u001b[38;5;241m.\u001b[39mengine)\n",
      "File \u001b[1;32m~\\anaconda3\\Lib\\site-packages\\pandas\\io\\parsers\\readers.py:1898\u001b[0m, in \u001b[0;36mTextFileReader._make_engine\u001b[1;34m(self, f, engine)\u001b[0m\n\u001b[0;32m   1895\u001b[0m     \u001b[38;5;28;01mraise\u001b[39;00m \u001b[38;5;167;01mValueError\u001b[39;00m(msg)\n\u001b[0;32m   1897\u001b[0m \u001b[38;5;28;01mtry\u001b[39;00m:\n\u001b[1;32m-> 1898\u001b[0m     \u001b[38;5;28;01mreturn\u001b[39;00m mapping[engine](f, \u001b[38;5;241m*\u001b[39m\u001b[38;5;241m*\u001b[39m\u001b[38;5;28mself\u001b[39m\u001b[38;5;241m.\u001b[39moptions)\n\u001b[0;32m   1899\u001b[0m \u001b[38;5;28;01mexcept\u001b[39;00m \u001b[38;5;167;01mException\u001b[39;00m:\n\u001b[0;32m   1900\u001b[0m     \u001b[38;5;28;01mif\u001b[39;00m \u001b[38;5;28mself\u001b[39m\u001b[38;5;241m.\u001b[39mhandles \u001b[38;5;129;01mis\u001b[39;00m \u001b[38;5;129;01mnot\u001b[39;00m \u001b[38;5;28;01mNone\u001b[39;00m:\n",
      "File \u001b[1;32m~\\anaconda3\\Lib\\site-packages\\pandas\\io\\parsers\\c_parser_wrapper.py:93\u001b[0m, in \u001b[0;36mCParserWrapper.__init__\u001b[1;34m(self, src, **kwds)\u001b[0m\n\u001b[0;32m     90\u001b[0m \u001b[38;5;28;01mif\u001b[39;00m kwds[\u001b[38;5;124m\"\u001b[39m\u001b[38;5;124mdtype_backend\u001b[39m\u001b[38;5;124m\"\u001b[39m] \u001b[38;5;241m==\u001b[39m \u001b[38;5;124m\"\u001b[39m\u001b[38;5;124mpyarrow\u001b[39m\u001b[38;5;124m\"\u001b[39m:\n\u001b[0;32m     91\u001b[0m     \u001b[38;5;66;03m# Fail here loudly instead of in cython after reading\u001b[39;00m\n\u001b[0;32m     92\u001b[0m     import_optional_dependency(\u001b[38;5;124m\"\u001b[39m\u001b[38;5;124mpyarrow\u001b[39m\u001b[38;5;124m\"\u001b[39m)\n\u001b[1;32m---> 93\u001b[0m \u001b[38;5;28mself\u001b[39m\u001b[38;5;241m.\u001b[39m_reader \u001b[38;5;241m=\u001b[39m parsers\u001b[38;5;241m.\u001b[39mTextReader(src, \u001b[38;5;241m*\u001b[39m\u001b[38;5;241m*\u001b[39mkwds)\n\u001b[0;32m     95\u001b[0m \u001b[38;5;28mself\u001b[39m\u001b[38;5;241m.\u001b[39munnamed_cols \u001b[38;5;241m=\u001b[39m \u001b[38;5;28mself\u001b[39m\u001b[38;5;241m.\u001b[39m_reader\u001b[38;5;241m.\u001b[39munnamed_cols\n\u001b[0;32m     97\u001b[0m \u001b[38;5;66;03m# error: Cannot determine type of 'names'\u001b[39;00m\n",
      "File \u001b[1;32mparsers.pyx:574\u001b[0m, in \u001b[0;36mpandas._libs.parsers.TextReader.__cinit__\u001b[1;34m()\u001b[0m\n",
      "File \u001b[1;32mparsers.pyx:663\u001b[0m, in \u001b[0;36mpandas._libs.parsers.TextReader._get_header\u001b[1;34m()\u001b[0m\n",
      "File \u001b[1;32mparsers.pyx:874\u001b[0m, in \u001b[0;36mpandas._libs.parsers.TextReader._tokenize_rows\u001b[1;34m()\u001b[0m\n",
      "File \u001b[1;32mparsers.pyx:891\u001b[0m, in \u001b[0;36mpandas._libs.parsers.TextReader._check_tokenize_status\u001b[1;34m()\u001b[0m\n",
      "File \u001b[1;32mparsers.pyx:2053\u001b[0m, in \u001b[0;36mpandas._libs.parsers.raise_parser_error\u001b[1;34m()\u001b[0m\n",
      "\u001b[1;31mPermissionError\u001b[0m: [Errno 13] Permission denied"
     ]
    }
   ],
   "source": [
    "df = pd.read_csv(\"E:\\\\breast_cancer_wisconsin_dataset.csv\")\n",
    "df.shape"
   ]
  },
  {
   "cell_type": "code",
   "execution_count": null,
   "id": "480fc593-6ddf-447d-8235-a11d505a4ab3",
   "metadata": {},
   "outputs": [],
   "source": [
    "df.head()"
   ]
  },
  {
   "cell_type": "code",
   "execution_count": null,
   "id": "52625c99-3ca0-4650-9818-92a4a9828791",
   "metadata": {},
   "outputs": [],
   "source": [
    "df.columns"
   ]
  },
  {
   "cell_type": "markdown",
   "id": "83345e61-985d-46bd-8806-54366b375910",
   "metadata": {},
   "source": [
    "**Renaming columns to improve readability and ensure consistency.**  "
   ]
  },
  {
   "cell_type": "code",
   "execution_count": null,
   "id": "21b5615d-2fec-476f-8791-fb41008a5193",
   "metadata": {},
   "outputs": [],
   "source": [
    "rename_dictionary = {\n",
    "    'id':'ID',\n",
    "    'diagnosis':'Diagnosis',\n",
    "    'radius_mean':'Mean Radius',\n",
    "    'texture_mean':'Mean Texture',\n",
    "    'perimeter_mean':'Mean Perimeter',\n",
    "    'area_mean':'Mean Area',\n",
    "    'smoothness_mean':'Mean Smoothness',\n",
    "    'compactness_mean':'Mean Compactness',\n",
    "    'concavity_mean':'Mean Concavity',\n",
    "    'concave points_mean':'Mean Concave Points',\n",
    "    'symmetry_mean':'Mean Symmetry',\n",
    "    'fractal_dimension_mean':'Mean Fractal Dimension',\n",
    "    'radius_se':'Standard Error Radius',\n",
    "    'texture_se':'Standard Error Texture',\n",
    "    'perimeter_se':'Standard Error Perimeter',\n",
    "    'area_se':'Standard Error Area',\n",
    "    'smoothness_se':'Standard Error Smoothness',\n",
    "    'compactness_se':'Standard Error Compactness',\n",
    "    'concavity_se':'Standard Error Concavity',\n",
    "    'concave points_se':'Standard Error Concave Points',\n",
    "    'symmetry_se':'Standard Error Symmetry',\n",
    "    'fractal_dimension_se':'Standard Error Fractal Dimension',\n",
    "    'radius_worst':'Worst Radius',\n",
    "    'texture_worst':'Worst Texture',\n",
    "    'perimeter_worst':'Worst Perimeter',\n",
    "    'area_worst':'Worst Area',\n",
    "    'smoothness_worst':'Worst Smoothness',\n",
    "    'compactness_worst':'Worst Compactness',\n",
    "    'concavity_worst':'Worst Concavity',\n",
    "    'concave points_worst':'Worst Concave Points',\n",
    "    'symmetry_worst':'Worst Symmetry',\n",
    "    'fractal_dimension_worst':'Worst Fractal Dimension'\n",
    "}"
   ]
  },
  {
   "cell_type": "code",
   "execution_count": null,
   "id": "33284792-180c-4696-b852-f2be9b63c758",
   "metadata": {},
   "outputs": [],
   "source": [
    "df = df.rename(columns = rename_dictionary)"
   ]
  },
  {
   "cell_type": "code",
   "execution_count": null,
   "id": "aa34706e-7d9c-4fc9-ad42-23e01a1b0df3",
   "metadata": {},
   "outputs": [],
   "source": [
    "print(df.columns)"
   ]
  },
  {
   "cell_type": "code",
   "execution_count": null,
   "id": "c7b99e73-76ef-4340-a50e-9021ca349db6",
   "metadata": {},
   "outputs": [],
   "source": [
    "df = df.drop('ID', axis = 1)"
   ]
  },
  {
   "cell_type": "code",
   "execution_count": null,
   "id": "95c94e21-d1ee-431e-be35-94a4220f3369",
   "metadata": {},
   "outputs": [],
   "source": [
    "df = df.drop('Unnamed: 32', axis = 1)"
   ]
  },
  {
   "cell_type": "code",
   "execution_count": null,
   "id": "9eb67fcd-f5a4-4165-8219-b6978a54ecba",
   "metadata": {},
   "outputs": [],
   "source": [
    "print(df.columns)"
   ]
  },
  {
   "cell_type": "markdown",
   "id": "992403d5-b5b1-4f82-b907-067946b2739e",
   "metadata": {},
   "source": [
    "**Replacing the M/B values with 1/0. (1 = Malignant (M), 0 = Benign (B))**"
   ]
  },
  {
   "cell_type": "code",
   "execution_count": null,
   "id": "03c85000-bc49-42e3-85a1-591cd10f7ca0",
   "metadata": {},
   "outputs": [],
   "source": [
    "df['Diagnosis'] = df['Diagnosis'].replace({'M':1, 'B':0})"
   ]
  },
  {
   "cell_type": "code",
   "execution_count": null,
   "id": "e31a6755-9487-42a4-b08d-84b6a0c1d27d",
   "metadata": {},
   "outputs": [],
   "source": [
    "df.head()\n",
    "#Confimation that the M/B (Malignant/Benign) has been replaced with 1/0, respectively."
   ]
  },
  {
   "cell_type": "markdown",
   "id": "20de460f-170d-451a-8732-edcbbf456c5e",
   "metadata": {},
   "source": [
    "**Checking the DataFrame for Null-Values**"
   ]
  },
  {
   "cell_type": "code",
   "execution_count": null,
   "id": "3f603d76-5be9-49d5-a5b4-b39f013b3a12",
   "metadata": {},
   "outputs": [],
   "source": [
    "print(df.isna().sum())"
   ]
  },
  {
   "cell_type": "code",
   "execution_count": null,
   "id": "65ebf0ef-6858-415e-9239-0f13e25f6e71",
   "metadata": {},
   "outputs": [],
   "source": [
    "print('Number of Duplicated Rows: ')\n",
    "print(df.duplicated().sum())"
   ]
  },
  {
   "cell_type": "code",
   "execution_count": null,
   "id": "e5839481-a0dd-433a-848b-fe56602c576a",
   "metadata": {},
   "outputs": [],
   "source": [
    "print(df.info())"
   ]
  },
  {
   "cell_type": "code",
   "execution_count": null,
   "id": "7a324e25-3ec8-4729-b165-a1075f10558a",
   "metadata": {},
   "outputs": [],
   "source": [
    "df.describe()"
   ]
  },
  {
   "cell_type": "markdown",
   "id": "cda5a0e7-efdb-4acf-8c29-3c2dc6e3d45c",
   "metadata": {},
   "source": [
    "### Purpose of Standardization\n",
    "\n",
    "I am going to standardize the numerical features of the dataset. Standardization transforms each feature to have a mean of 0 and a standard deviation of 1, allowing all features to be on the same scale. This is important as this dataset has 30 numerical features, some with extraordinary ranges (eg. Mean Radius which ranges from 143.5 to 2501, while Mean Smoothness ranges from 0.05263 to 0.1634). Without standardization, the features with larger values could possibly skew the results which could lead to inaccurate predictions.\n",
    "This process may permit better modeling and visualizations.\n"
   ]
  },
  {
   "cell_type": "code",
   "execution_count": null,
   "id": "45091d1b-556a-49dc-9d73-0d98a9ad5c93",
   "metadata": {},
   "outputs": [],
   "source": [
    "numerical_cols = df.columns.drop('Diagnosis')"
   ]
  },
  {
   "cell_type": "code",
   "execution_count": null,
   "id": "b8ffe7ce-ea25-4531-b7d5-ae56ef6e8505",
   "metadata": {},
   "outputs": [],
   "source": [
    "df_standardized = df.copy()"
   ]
  },
  {
   "cell_type": "code",
   "execution_count": null,
   "id": "821e84f9-f8f3-43f3-a9fd-aff982e68610",
   "metadata": {},
   "outputs": [],
   "source": [
    "scaler = StandardScaler()\n",
    "df_standardized[numerical_cols] = scaler.fit_transform(df[numerical_cols])"
   ]
  },
  {
   "cell_type": "code",
   "execution_count": null,
   "id": "f22a9a94-b060-48a2-b531-2a448ca75b15",
   "metadata": {},
   "outputs": [],
   "source": [
    "df_standardized.head()"
   ]
  },
  {
   "cell_type": "code",
   "execution_count": null,
   "id": "23a8e375-baa6-42e0-a785-b7bb9c11c7a9",
   "metadata": {},
   "outputs": [],
   "source": [
    "df_standardized.describe()"
   ]
  },
  {
   "cell_type": "code",
   "execution_count": null,
   "id": "03a833a1-0c99-478d-9ca8-7379438482a6",
   "metadata": {},
   "outputs": [],
   "source": []
  },
  {
   "cell_type": "markdown",
   "id": "4f6e943a-eb01-48b7-a413-349b55beaf0e",
   "metadata": {},
   "source": [
    "**Visualizing the Effect of Standardization** -- *Mean Radius*"
   ]
  },
  {
   "cell_type": "code",
   "execution_count": null,
   "id": "ffe663a0-1e61-484f-b465-7136b0e3f3ff",
   "metadata": {},
   "outputs": [],
   "source": [
    "sns.boxplot(y = df['Mean Radius'])\n",
    "plt.title('Mean Radius (Before Standardization)')"
   ]
  },
  {
   "cell_type": "code",
   "execution_count": null,
   "id": "6f6219fe-36f1-4ede-8101-33456623ee6d",
   "metadata": {},
   "outputs": [],
   "source": [
    "sns.boxplot(y = df_standardized['Mean Radius'])\n",
    "plt.title('Mean Radius (After Standardization)')"
   ]
  },
  {
   "cell_type": "markdown",
   "id": "7ab5a453-8b67-40ca-bec6-8a9efba50468",
   "metadata": {},
   "source": [
    "### Visualizations"
   ]
  },
  {
   "cell_type": "markdown",
   "id": "1002db29-8c51-4601-b459-40f77e5406b6",
   "metadata": {},
   "source": [
    "**Description**\n",
    "-- The goal of this bar plot is to show the number of benign (0) and malignant (1) tumor samples. \n",
    "\n",
    "**Importance**\n",
    "-- There is a greater number of benign samples than malignant samples."
   ]
  },
  {
   "cell_type": "code",
   "execution_count": null,
   "id": "9006dcfc-c74a-4b46-a641-ccc60938f772",
   "metadata": {},
   "outputs": [],
   "source": [
    "plt.figure(figsize=(10,8))\n",
    "sns.countplot(x = 'Diagnosis', data = df, color = 'silver')\n",
    "plt.title('Count of Benign (0) vs. Malignant (1) Diagnosis')\n",
    "plt.xlabel('Diagnosis (0 = Benign, 1 = Malignant')\n",
    "plt.ylabel('Count')\n",
    "plt.savefig('diagnosis_count.png', dpi=300)"
   ]
  },
  {
   "cell_type": "markdown",
   "id": "f863edb6-d052-45c6-bc72-a6128c18125f",
   "metadata": {},
   "source": [
    "**Description**\n",
    "-- The goal of this histogram is to show the distribution of Mean Radius Values across all samples.\n",
    "\n",
    "**Importance**\n",
    "-- Mean Radius will likely be a key feature in measuring tumor size. There is a large range, which suggests that there may be variation between benign and malignant tumors. "
   ]
  },
  {
   "cell_type": "code",
   "execution_count": null,
   "id": "34e1c07b-1d2f-49d1-94d3-0cf7c9daf070",
   "metadata": {},
   "outputs": [],
   "source": [
    "plt.hist(df['Mean Radius'], bins = 20,  edgecolor = 'black')\n",
    "plt.grid(linestyle = '--', alpha = 0.7)\n",
    "plt.yticks(range(0, 101, 10))\n",
    "plt.title('Distribution of Mean Radius')\n",
    "plt.xlabel('Mean Radius')\n",
    "plt.ylabel('Frequency')\n",
    "plt.savefig('mean_radius_hist.png', dpi = 300)"
   ]
  },
  {
   "cell_type": "markdown",
   "id": "78c449a8-54d7-41a8-ad0f-4b599c82b258",
   "metadata": {},
   "source": [
    "**Description**\n",
    "-- The goal of this _interactive_ histogram is to demonstrate show the distribution of Mean Area values across all samples using _Plotly_.\n",
    "\n",
    "**Importance** \n",
    "-- Mean Area will likely be a key feature in measuring tumor size. There is a large range, which suggests that there may be variation between benign and malignant tumors. This Plotly interactive highlights outliers that may impact diagnosis predictions, which may require the use of standardization. "
   ]
  },
  {
   "cell_type": "code",
   "execution_count": null,
   "id": "f201f0b4-c1ba-40ca-ae7b-715f79e040d7",
   "metadata": {},
   "outputs": [],
   "source": [
    "pip install kaleido"
   ]
  },
  {
   "cell_type": "code",
   "execution_count": null,
   "id": "f704c578-7d12-481e-ba76-b8c71abbad1a",
   "metadata": {},
   "outputs": [],
   "source": [
    "fig1 = px.histogram(df, x = 'Mean Area', nbins = 20, title = 'Distribution of Mean Area')\n",
    "fig1.update_layout(xaxis_title = 'Mean Area', yaxis_title = 'Frequency')\n",
    "fig1.write_image('mean_area_hist.png', width = 800, height = 600, scale = 2)\n",
    "fig1.show()"
   ]
  },
  {
   "cell_type": "markdown",
   "id": "b34da33d-0724-4bae-a22f-664c114c70f1",
   "metadata": {},
   "source": [
    "**Description**\n",
    "-- The goal of this boxplot is to demonstrate show the range, median, and outliers of the Mean Texture values across all samples using _Seaborn_.\n",
    "\n",
    "**Importance** \n",
    "-- Mean Texture measures cell surface variability. The box plot reveals its spread and outliers, which provides insight into a feature that may contribute to diagnosis, setting up comparisons by class."
   ]
  },
  {
   "cell_type": "code",
   "execution_count": null,
   "id": "75fe9add-b856-4483-b012-e69e397c2080",
   "metadata": {},
   "outputs": [],
   "source": [
    "plt.figure(figsize = (6,4))\n",
    "sns.boxplot(y = 'Mean Texture', data = df)\n",
    "plt.title('Box Plot of Mean Texture')\n",
    "plt.savefig('mean_texture_box.png')\n",
    "plt.show()"
   ]
  },
  {
   "cell_type": "markdown",
   "id": "f2a83e1e-a97c-401f-aa3b-96b7a54e4f20",
   "metadata": {},
   "source": [
    "**Description**\n",
    "-- The goal of this bar plot is to demonstrate show the average values of Mean Radius, Mean Area, and Mean Concavity.\n",
    "\n",
    "**Importance** \n",
    "-- By creating a comparison visual of key features allows for quick comparison of scale and possible importance. Here, there is a high average for Mean Area, further suggesting a significance of this feature."
   ]
  },
  {
   "cell_type": "code",
   "execution_count": null,
   "id": "d2b99195-01d2-4661-82b3-76213d8f3377",
   "metadata": {},
   "outputs": [],
   "source": [
    "key_features = ['Mean Radius', 'Mean Area', 'Mean Concavity']\n",
    "means = df[key_features].mean()\n",
    "plt.figure(figsize = (8,4))\n",
    "plt.bar(key_features, means, color = 'green')\n",
    "plt.title('Mean Values of Key Features')\n",
    "plt.ylabel('Mean Value')\n",
    "plt.yticks(range(0, 701, 50))\n",
    "plt.grid(linestyle = '--', alpha = 0.7)\n",
    "plt.savefig('key_features_means.png')\n",
    "plt.show()"
   ]
  },
  {
   "cell_type": "markdown",
   "id": "55526e1e-c332-4282-aca6-a8f65e112db4",
   "metadata": {},
   "source": [
    "**Description**\n",
    "-- The goal of this boxplot is to compare the Mean Radius values for benign (0) and malignant (1) tumors. \n",
    "\n",
    "**Importance** \n",
    "-- Greater mean radius value for malignant tumors indicate that tumor size is a key differentiator, which supports the hypothesis that features can be used to predict a diagnosis."
   ]
  },
  {
   "cell_type": "code",
   "execution_count": null,
   "id": "2030a3ee-3f9b-4995-94c0-3e66cf3f59ae",
   "metadata": {},
   "outputs": [],
   "source": [
    "plt.figure(figsize = (6,4))\n",
    "sns.boxplot(x = 'Diagnosis', y = 'Mean Radius', data = df)\n",
    "plt.title('Mean Radius by Diagnosis')\n",
    "plt.xlabel('Diagnosis (0 = Benign, 1 = Malignant)')\n",
    "plt.savefig('mean_radius_by_diagnosis')\n",
    "plt.show()"
   ]
  },
  {
   "cell_type": "markdown",
   "id": "74570766-a84d-4b0a-b99d-61c1f1716318",
   "metadata": {},
   "source": [
    "**Description**\n",
    "-- The goal of this Violin Plot is to compare the Worst Concave Point values for benign (0) and malignant (1) tumors. \n",
    "\n",
    "**Importance** \n",
    "-- Researching the key features within the dataset, Worst Concave Points measure tumor shape irregularity. Here the wider shape of malignant tumors may indicate a greater predictor for malignancy. "
   ]
  },
  {
   "cell_type": "code",
   "execution_count": null,
   "id": "0090216b-e225-4bde-b6c3-4d060f05fc0f",
   "metadata": {},
   "outputs": [],
   "source": [
    "plt.figure(figsize = (6,4))\n",
    "sns.violinplot(x = 'Diagnosis', y = 'Worst Concave Points', data = df)\n",
    "plt.title('Worst Concave Points by Diagnosis')\n",
    "plt.xlabel('Diagnosis (0 = Benign, 1 = Malignant)')\n",
    "plt.savefig('worst_concave_points_violinplot.png')\n",
    "plt.show()"
   ]
  },
  {
   "cell_type": "markdown",
   "id": "86f1c5fa-cf67-402b-bdc1-d96943a2498d",
   "metadata": {},
   "source": [
    "**Description**\n",
    "-- The goal of this Scatter Plot is to compare Mean Radius vs. Mean Area values for benign (0) and malignant (1) tumors, colored by Diagnosis. \n",
    "\n",
    "**Importance** \n",
    "-- There is a clear separation of benign and malignant points which demonstrates that size-related features can be used to facilitate diagnosis. "
   ]
  },
  {
   "cell_type": "code",
   "execution_count": null,
   "id": "ae1d97f4-ee26-4857-baf5-919e24f83ef7",
   "metadata": {},
   "outputs": [],
   "source": [
    "fig2 = px.scatter(df, x = 'Mean Radius', y = 'Mean Area', color = 'Diagnosis',\n",
    "                 title = 'Mean Radius vs. Mean Area by Diagnosis',\n",
    "                 labels = {'Diagnosis':'Diagnosis (0 = Benign, 1 = Malignant)'})\n",
    "fig2.write_image('mean_radius_vs_area.png')\n",
    "fig2.show()"
   ]
  },
  {
   "cell_type": "markdown",
   "id": "b544e46d-e5cb-4012-8c2f-4fdfce76b2d2",
   "metadata": {},
   "source": [
    "**Description**\n",
    "-- This pair plot shows pairwise relationships between Mean Radius, Mean Texture, Mean Concavity, and Worst Concave Points, colored by Diagnosis. \n",
    "\n",
    "**Importance** \n",
    "-- The goal here was to see feature interactions and class separation, which highlights which combinations are most predictive. "
   ]
  },
  {
   "cell_type": "code",
   "execution_count": null,
   "id": "a9a4b550-573e-4434-b6c6-9ccf622a0491",
   "metadata": {},
   "outputs": [],
   "source": [
    "top_features = ['Mean Radius', 'Mean Texture', 'Mean Concavity', 'Worst Concave Points', 'Diagnosis']\n",
    "sns.pairplot(df[top_features], hue = 'Diagnosis')\n",
    "plt.suptitle('Pair Plot of Key Features by Diagnosis')\n",
    "plt.savefig('pair_plot.png')\n",
    "plt.show()"
   ]
  },
  {
   "cell_type": "code",
   "execution_count": null,
   "id": "fe11e38f-6707-442f-a1a7-279449fb9823",
   "metadata": {},
   "outputs": [],
   "source": [
    "plt.figure(figsize = (10,8))\n",
    "sns.heatmap(df.corr(), cmap = 'coolwarm', vmin = -1, vmax = 1)\n",
    "plt.title('Correlation Heatmap of All Features')\n",
    "plt.savefig('correlation_heatmap.png')\n",
    "plt.show()"
   ]
  },
  {
   "cell_type": "code",
   "execution_count": null,
   "id": "fe07f3f4-e865-4583-9be5-50f4e4fd3eb8",
   "metadata": {},
   "outputs": [],
   "source": [
    "correlations = df.corr()['Diagnosis'].drop('Diagnosis').sort_values()\n",
    "print(correlations)"
   ]
  },
  {
   "cell_type": "code",
   "execution_count": null,
   "id": "5ae076c9-6928-4387-8831-1960ab7b08f0",
   "metadata": {},
   "outputs": [],
   "source": [
    "plt.figure(figsize = (10, 6))\n",
    "correlations.plot(kind = 'bar')\n",
    "plt.title('Correlation of Features with Diagnosis')\n",
    "plt.ylabel('Correlation Coefficient')\n",
    "plt.savefig('diagnosis_correlations.png')\n",
    "plt.show()"
   ]
  },
  {
   "cell_type": "markdown",
   "id": "e874dc55-d086-480e-a8bd-342edb956f01",
   "metadata": {},
   "source": [
    "## Advanced Analysis\n",
    "\n",
    "In this section, the goal is "
   ]
  },
  {
   "cell_type": "code",
   "execution_count": null,
   "id": "fb04b991-5406-4e39-ba41-d00dea5b4b8a",
   "metadata": {},
   "outputs": [],
   "source": [
    "X = df.drop('Diagnosis', axis = 1)\n",
    "X_scaled = scaler.fit_transform(X)"
   ]
  },
  {
   "cell_type": "code",
   "execution_count": null,
   "id": "9c64e515-d8c4-4e2d-802e-c9824ddbb6b1",
   "metadata": {},
   "outputs": [],
   "source": [
    "pca = PCA(n_components = 3)\n",
    "X_pca = pca.fit_transform(X_scaled)\n",
    "pca_df = pd.DataFrame(X_pca, columns = ['PC1', 'PC2', 'PC3'])\n",
    "pca_df['Diagnosis'] = df['Diagnosis']"
   ]
  },
  {
   "cell_type": "markdown",
   "id": "4e82e072-a143-478f-a8f9-78e99673fcc4",
   "metadata": {},
   "source": [
    "#### 2D PCA Scatter Plot\n",
    "\n",
    "**Description**\n",
    "-- This scatter plot shows the first two principal components (PC1, PC2) colored by diagnosis.\n",
    "\n",
    "**Importance** \n",
    "-- PCA reduces 30 features to 2D, clearly demonstrating class separation. It is evidence of clustering of benign vs. malignant points which support the hypothesis that features can be used to distinguish diagnoses. "
   ]
  },
  {
   "cell_type": "code",
   "execution_count": null,
   "id": "61d4703d-d4eb-4e74-ba12-0ad74e483f11",
   "metadata": {},
   "outputs": [],
   "source": [
    "sns.scatterplot(x = 'PC1', y = 'PC2', hue = 'Diagnosis', data = pca_df)\n",
    "plt.title('PCA: PC1 vs. PC2 by Diagnosis')\n",
    "plt.savefig('pca_2d.png')\n",
    "plt.show()"
   ]
  },
  {
   "cell_type": "markdown",
   "id": "1210b9ae-8412-4286-8f2f-c3684e423fd1",
   "metadata": {},
   "source": [
    "#### 3D PCA Scatter Plot\n",
    "\n",
    "**Description**\n",
    "-- This is an *interactive* 3D scatter plot which shows PC1, PC2, and PC3, colored by diagnosis.\n",
    "\n",
    "**Importance** \n",
    "-- The 3D view enhances class separation visualization. The interactivity is an added touch, and permits exploration of the clusters, reinforcing that features can be used to predict diagnosis. "
   ]
  },
  {
   "cell_type": "code",
   "execution_count": null,
   "id": "bb6d4aa4-fd9b-4dbc-a404-c9d127e22c93",
   "metadata": {},
   "outputs": [],
   "source": [
    "fig3 = px.scatter_3d(pca_df, x = 'PC1', y = 'PC2', z = 'PC3', color = 'Diagnosis', \n",
    "                     title = '3-Dimensional Scatter Plot by Diagnosis',\n",
    "                     labels = {'Diagnosis': 'Diagnosis (0 = Benign, 1 = Malignant'})\n",
    "fig3.write_image('pca_3d.png')\n",
    "fig3.show()"
   ]
  },
  {
   "cell_type": "markdown",
   "id": "c5d52338-4eea-4db5-ba23-f202443a0852",
   "metadata": {},
   "source": [
    "#### PCA Explained Variance Ratio\n",
    "\n",
    "**Description**\n",
    "-- This bar chart shows the variance explained by the first three principal components.\n",
    "\n",
    "**Importance** \n",
    "-- High variance is a good indicator that a few components capture the most information, further validating using PCA's in visualizating predictive patterns."
   ]
  },
  {
   "cell_type": "code",
   "execution_count": null,
   "id": "f3c752a7-1cb9-461e-b53a-a4f62c830728",
   "metadata": {},
   "outputs": [],
   "source": [
    "plt.figure(figsize = (6,4))\n",
    "plt.bar(range(1,4), pca.explained_variance_ratio_, color = 'green')\n",
    "plt.title('PCA Explained Variance Ratio')\n",
    "plt.xlabel('Principal Component')\n",
    "plt.ylabel('Variance Ratio')\n",
    "\n",
    "plt.savefig('pca_variance.png')\n",
    "plt.show()"
   ]
  },
  {
   "cell_type": "code",
   "execution_count": null,
   "id": "30945858-de8c-4a96-ab00-a6ee6953e834",
   "metadata": {},
   "outputs": [],
   "source": [
    "model = LogisticRegression()\n",
    "model.fit(X_scaled, df['Diagnosis'])"
   ]
  },
  {
   "cell_type": "markdown",
   "id": "be3609f8-b09e-48c8-bd8e-617e8230d47f",
   "metadata": {},
   "source": [
    "#### Feature Importance From Logistic Regression\n",
    "\n",
    "**Description**\n",
    "-- This bar plot shows the coefficients of each feature in a logistic regression model. \n",
    "\n",
    "**Importance** \n",
    "-- The largest coefficients are greater indicators/predictors of which features drive diagnosis."
   ]
  },
  {
   "cell_type": "code",
   "execution_count": null,
   "id": "9b0f46a8-6f22-4ed5-9307-bcbaea163efe",
   "metadata": {},
   "outputs": [],
   "source": [
    "importance = pd.Series(model.coef_[0], index = X.columns).sort_values()\n",
    "\n",
    "plt.figure(figsize=(10,6))\n",
    "tango.plot(kind = 'bar')\n",
    "plt.title('Feature Importance from Logistic Regression')\n",
    "plt.ylabel('Coefficient')\n",
    "\n",
    "plt.savefig('feature_importance.png')\n",
    "plt.show()"
   ]
  },
  {
   "cell_type": "markdown",
   "id": "e694df27-0131-4c70-9ef3-d7bf897f19a9",
   "metadata": {},
   "source": [
    "#### Distribution of PC1, PC2, and PC3 by Diagnosis\n",
    "\n",
    "**Description**\n",
    "-- These histograms show the distribution of PC1, PC2, and PC3 Values for benign and malignant tumors.\n",
    "\n",
    "**Importance** \n",
    "-- PC1 captures the most variance. Distinct distributions for each class suggest that the PCA-derived features are predictive. "
   ]
  },
  {
   "cell_type": "code",
   "execution_count": null,
   "id": "78cf3d46-581d-47e2-a7f1-705c84fb498a",
   "metadata": {},
   "outputs": [],
   "source": [
    "plt.figure(figsize = (10, 6))\n",
    "sns.histplot(data = pca_df, x = 'PC1', hue = 'Diagnosis', bins = 20)\n",
    "\n",
    "plt.title('Distribution of PC1 by Diagnosis')\n",
    "plt.xlabel('PC1')\n",
    "plt.savefig('pc1_distribution.png')\n",
    "\n",
    "plt.show()"
   ]
  },
  {
   "cell_type": "code",
   "execution_count": null,
   "id": "b993d515-fab6-4402-8e2d-0e21324819bb",
   "metadata": {},
   "outputs": [],
   "source": [
    "plt.figure(figsize = (10, 6))\n",
    "sns.histplot(data = pca_df, x = 'PC2', hue = 'Diagnosis', bins = 20)\n",
    "\n",
    "plt.title('Distribution of PC2 by Diagnosis')\n",
    "plt.xlabel('PC2')\n",
    "plt.savefig('pc2_distribution.png')\n",
    "\n",
    "plt.show()"
   ]
  },
  {
   "cell_type": "code",
   "execution_count": null,
   "id": "30899e4d-4b49-4601-bbb7-93d3ab60ed23",
   "metadata": {},
   "outputs": [],
   "source": [
    "plt.figure(figsize = (10, 6))\n",
    "sns.histplot(data = pca_df, x = 'PC3', hue = 'Diagnosis', bins = 20)\n",
    "\n",
    "plt.title('Distribution of PC3 by Diagnosis')\n",
    "plt.xlabel('PC3')\n",
    "plt.savefig('pc3_distribution.png')\n",
    "\n",
    "plt.show()"
   ]
  },
  {
   "cell_type": "code",
   "execution_count": null,
   "id": "f6222dcf-1f2f-4bae-932c-8e3accf77861",
   "metadata": {},
   "outputs": [],
   "source": [
    "plt.figure(figsize=(10, 6))\n",
    "sns.boxplot(x='Diagnosis', y='PC2', data=pca_df)\n",
    "\n",
    "plt.title('PC2 by Diagnosis')\n",
    "plt.xlabel('Diagnosis (0 = Benign, 1 = Malignant)')\n",
    "plt.ylabel('PC2')\n",
    "\n",
    "plt.savefig('pc2_box.png')\n",
    "plt.show()"
   ]
  },
  {
   "cell_type": "code",
   "execution_count": null,
   "id": "01d2ec46-ab71-4e46-bc4d-89df9ea408ae",
   "metadata": {},
   "outputs": [],
   "source": [
    "df['Diagnosis'].value_counts()"
   ]
  },
  {
   "cell_type": "markdown",
   "id": "bb93029b-b3c6-4a07-bf4a-20bec53d5c5f",
   "metadata": {},
   "source": [
    "## Model Performance"
   ]
  },
  {
   "cell_type": "code",
   "execution_count": null,
   "id": "51640bed-f920-49d5-9df4-c3adb457592a",
   "metadata": {},
   "outputs": [],
   "source": [
    "X_train, X_test, y_train, y_test = train_test_split(X_scaled, df['Diagnosis'], test_size = 0.2, random_state = 42)\n",
    "\n",
    "model.fit(X_train, y_train)\n",
    "y_pred = model.predict(X_test)\n",
    "y_prob = model.predict_proba(X_test)[:, 1]"
   ]
  },
  {
   "cell_type": "markdown",
   "id": "0c24b6bc-3be1-499a-839f-8c6196c2251e",
   "metadata": {},
   "source": [
    "#### Confusion Matrix\n",
    "\n",
    "**Description**\n",
    "-- This heatmap shows the confusion matrix for the Logistic Regression Model's predictions.\n",
    "\n",
    "**Importance** \n",
    "-- High true positives and negatives (the model correctly classifing benign/malignancy) demonstrate the model's accuracy, further demonsttrating that feature analysis can be used in diagnosis. "
   ]
  },
  {
   "cell_type": "code",
   "execution_count": null,
   "id": "d76ba465-b860-4ba7-acf2-0b0c456f84d7",
   "metadata": {},
   "outputs": [],
   "source": [
    "cm = confusion_matrix(y_test, y_pred)\n",
    "\n",
    "plt.figure(figsize = (6,4))\n",
    "\n",
    "sns.heatmap(cm, annot = True, fmt = 'd', cmap = 'Blues')\n",
    "plt.title('Confusion Matrix for Logistic Regression')\n",
    "plt.xlabel('Predicted')\n",
    "plt.ylabel('Actual')\n",
    "\n",
    "plt.savefig('confusion_matrix.png')\n",
    "plt.show()"
   ]
  },
  {
   "cell_type": "markdown",
   "id": "f953db5c-2b0b-4c47-9f63-59a5d43c65b7",
   "metadata": {},
   "source": [
    "#### ROC Curve\n",
    "\n",
    "**Description**\n",
    "-- This plot shows the Receiver Operative Characteristic (ROC) curve **and** Area Under the Curve (AUC) for the model. \n",
    "\n",
    "**Importance** \n",
    "--  An ROC Curve is a graphical representativion of the performance of a classification model. It essentially shows the trade-off between the sensitivity (true postive rate (tpr) and specificity (false positivity rate (fpr)) at different thresholds. ROC curves are useful tools for its ability to make evaluations. Here, the ROC curve is being used to determine the optimal threshold for distinguishing between bengin vs malignant tumors. "
   ]
  },
  {
   "cell_type": "code",
   "execution_count": null,
   "id": "a7199e89-099e-4f93-a0cd-21eb3d7b10b4",
   "metadata": {},
   "outputs": [],
   "source": [
    "fpr, tpr, _ = roc_curve(y_test, y_prob)\n",
    "\n",
    "roc_auc = auc(fpr, tpr)\n",
    "\n",
    "plt.figure(figsize = (6,4))\n",
    "\n",
    "plt.plot(fpr, tpr, label = f'ROC Curve (AUC = {roc_auc:.2f})')\n",
    "plt.plot([0, 1], [0, 1], 'k--')\n",
    "\n",
    "plt.title('ROC Curve for Logistic Regression')\n",
    "plt.xlabel('False Positive Rate (FPR)')\n",
    "plt.ylabel('True Positive Rate (TPR)')\n",
    "plt.legend()\n",
    "\n",
    "plt.savefig('roc_curve.png')\n",
    "plt.show()"
   ]
  },
  {
   "cell_type": "markdown",
   "id": "0c5f9142-ba39-4761-9731-bb295537501a",
   "metadata": {},
   "source": [
    "#### Prediction Probability Distribution\n",
    "\n",
    "**Description**\n",
    "-- This is an interative histogram which shows the models predicted probabilities for malignant tumors, colored by actual Diagnosis.\n",
    "\n",
    "**Importance** \n",
    "--  Well-separated probability distributions for benign and malignant cases confirm the model’s ability to distinguish classes, which supports the hypothesis."
   ]
  },
  {
   "cell_type": "code",
   "execution_count": null,
   "id": "8b90f6e2-30d9-4255-b6a1-9c1de3698c66",
   "metadata": {},
   "outputs": [],
   "source": [
    "pred_df = pd.DataFrame({'Probability': y_prob, 'Diagnosis': y_test})\n",
    "\n",
    "fig4 = px.histogram(pred_df, x='Probability', color='Diagnosis', nbins=20,\n",
    "                   title='Prediction Probability Distribution')\n",
    "\n",
    "fig4.update_layout(xaxis_title='Predicted Probability of Malignant', yaxis_title='Count')\n",
    "fig4.write_image('prediction_distribution.png')\n",
    "fig4.show()"
   ]
  },
  {
   "cell_type": "code",
   "execution_count": null,
   "id": "76007545-3951-466e-bc42-dc144518b7b4",
   "metadata": {},
   "outputs": [],
   "source": [
    "top_features = importance.abs().sort_values(ascending = False).head(4).index\n",
    "for i, feature in enumerate(top_features, 21):\n",
    "    plt.figure(figsize = (10,6))\n",
    "    sns.boxplot(x = 'Diagnosis', y = feature, data = df)\n",
    "    \n",
    "    plt.title(f'{feature} by Diagnosis')\n",
    "    plt.xlabel('Diagnosis (0 = Benign, 1 = Malignant)')\n",
    "    plt.ylabel(feature)\n",
    "    plt.savefig(f'{feature}_box.png')\n",
    "    plt.show()"
   ]
  }
 ],
 "metadata": {
  "kernelspec": {
   "display_name": "Python [conda env:base] *",
   "language": "python",
   "name": "conda-base-py"
  },
  "language_info": {
   "codemirror_mode": {
    "name": "ipython",
    "version": 3
   },
   "file_extension": ".py",
   "mimetype": "text/x-python",
   "name": "python",
   "nbconvert_exporter": "python",
   "pygments_lexer": "ipython3",
   "version": "3.12.7"
  }
 },
 "nbformat": 4,
 "nbformat_minor": 5
}
